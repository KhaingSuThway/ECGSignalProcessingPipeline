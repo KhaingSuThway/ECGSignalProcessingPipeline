{
 "cells": [
  {
   "cell_type": "code",
   "execution_count": 1,
   "metadata": {},
   "outputs": [],
   "source": [
    "import pandas as pd\n",
    "import numpy as np\n",
    "\n",
    "from read_record import Record,RecordReader\n",
    "from scanning_window import scan_record\n",
    "from collections import Counter"
   ]
  },
  {
   "cell_type": "code",
   "execution_count": 2,
   "metadata": {},
   "outputs": [],
   "source": [
    "folder_path=\"D:/CPSC2021/Training_set_I\"\n",
    "file_name=\"data_31_11\""
   ]
  },
  {
   "cell_type": "code",
   "execution_count": 3,
   "metadata": {},
   "outputs": [],
   "source": [
    "reading_record=RecordReader.read(folder_path,file_name,0,0,None)"
   ]
  },
  {
   "cell_type": "code",
   "execution_count": 4,
   "metadata": {},
   "outputs": [
    {
     "name": "stdout",
     "output_type": "stream",
     "text": [
      "['_Record__parent', '_Record__signal', '_Record__symbol', '_Record__aux', '_Record__sample', '_Record__label', '_Record__sf', '_Record__collection']\n"
     ]
    }
   ],
   "source": [
    "# Get the keys of the object\n",
    "keys=reading_record.__dict__.keys()\n",
    "\n",
    "# Convert the keys to a list if you need\n",
    "keys_list = list(keys)\n",
    "\n",
    "# Print the keys\n",
    "print(keys_list)"
   ]
  },
  {
   "cell_type": "code",
   "execution_count": 5,
   "metadata": {},
   "outputs": [
    {
     "data": {
      "text/plain": [
       "111.355"
      ]
     },
     "execution_count": 5,
     "metadata": {},
     "output_type": "execute_result"
    }
   ],
   "source": [
    "ecg_signal=reading_record._Record__signal\n",
    "duration=len(ecg_signal)/reading_record._Record__sf\n",
    "duration"
   ]
  },
  {
   "cell_type": "code",
   "execution_count": 6,
   "metadata": {},
   "outputs": [
    {
     "data": {
      "text/plain": [
       "Counter({'': 192, '(AFIB': 1, '(N': 1})"
      ]
     },
     "execution_count": 6,
     "metadata": {},
     "output_type": "execute_result"
    }
   ],
   "source": [
    "record_rhythm=reading_record._Record__aux\n",
    "Counter(record_rhythm)"
   ]
  },
  {
   "cell_type": "code",
   "execution_count": 7,
   "metadata": {},
   "outputs": [
    {
     "data": {
      "text/plain": [
       "'paroxysmal atrial fibrillation'"
      ]
     },
     "execution_count": 7,
     "metadata": {},
     "output_type": "execute_result"
    }
   ],
   "source": [
    "record_label=reading_record._Record__label\n",
    "record_label"
   ]
  },
  {
   "cell_type": "code",
   "execution_count": 8,
   "metadata": {},
   "outputs": [
    {
     "data": {
      "text/plain": [
       "Counter({'N': 192, '+': 2})"
      ]
     },
     "execution_count": 8,
     "metadata": {},
     "output_type": "execute_result"
    }
   ],
   "source": [
    "ecg_symbol=reading_record._Record__symbol\n",
    "Counter(ecg_symbol)"
   ]
  },
  {
   "cell_type": "code",
   "execution_count": 9,
   "metadata": {},
   "outputs": [
    {
     "data": {
      "text/plain": [
       "False"
      ]
     },
     "execution_count": 9,
     "metadata": {},
     "output_type": "execute_result"
    }
   ],
   "source": [
    "list(Counter(reading_record._Record__aux).keys())==['']"
   ]
  },
  {
   "cell_type": "code",
   "execution_count": 10,
   "metadata": {},
   "outputs": [
    {
     "name": "stdout",
     "output_type": "stream",
     "text": [
      "There's rhythm annotation. dict_keys(['', '(AFIB', '(N'])\n",
      "left_end: 7188\n",
      "right_end: 6000\n",
      "window_width: 30\n"
     ]
    },
    {
     "ename": "ZeroDivisionError",
     "evalue": "division by zero",
     "output_type": "error",
     "traceback": [
      "\u001b[1;31m---------------------------------------------------------------------------\u001b[0m",
      "\u001b[1;31mZeroDivisionError\u001b[0m                         Traceback (most recent call last)",
      "Cell \u001b[1;32mIn[10], line 2\u001b[0m\n\u001b[0;32m      1\u001b[0m \u001b[38;5;28;01mfrom\u001b[39;00m \u001b[38;5;21;01mscanning_window\u001b[39;00m \u001b[38;5;28;01mimport\u001b[39;00m scan_record\n\u001b[1;32m----> 2\u001b[0m test_scan\u001b[38;5;241m=\u001b[39m\u001b[43mscan_record\u001b[49m\u001b[43m(\u001b[49m\u001b[43mreading_record\u001b[49m\u001b[43m,\u001b[49m\u001b[43mwindow_width\u001b[49m\u001b[38;5;241;43m=\u001b[39;49m\u001b[38;5;241;43m30\u001b[39;49m\u001b[43m)\u001b[49m\n",
      "File \u001b[1;32md:\\ECGSignalProcessingPipeline\\scanning_window.py:43\u001b[0m, in \u001b[0;36mscan_record\u001b[1;34m(record, window_width, window_step)\u001b[0m\n\u001b[0;32m     41\u001b[0m \u001b[38;5;28;01melse\u001b[39;00m:\n\u001b[0;32m     42\u001b[0m     \u001b[38;5;28mprint\u001b[39m(\u001b[38;5;124mf\u001b[39m\u001b[38;5;124m\"\u001b[39m\u001b[38;5;124mThere\u001b[39m\u001b[38;5;124m'\u001b[39m\u001b[38;5;124ms rhythm annotation. \u001b[39m\u001b[38;5;132;01m{\u001b[39;00mrhythm_keys\u001b[38;5;132;01m}\u001b[39;00m\u001b[38;5;124m\"\u001b[39m)\n\u001b[1;32m---> 43\u001b[0m     data_within_window\u001b[38;5;241m=\u001b[39m\u001b[43mscan_with_interval\u001b[49m\u001b[43m(\u001b[49m\u001b[43mrecord\u001b[49m\u001b[38;5;241;43m=\u001b[39;49m\u001b[43mrecord\u001b[49m\u001b[43m,\u001b[49m\u001b[43mwindow_width\u001b[49m\u001b[38;5;241;43m=\u001b[39;49m\u001b[43mwindow_width\u001b[49m\u001b[43m)\u001b[49m\n\u001b[0;32m     46\u001b[0m \u001b[38;5;28;01mreturn\u001b[39;00m data_within_window\n",
      "File \u001b[1;32md:\\ECGSignalProcessingPipeline\\scanning_window.py:195\u001b[0m, in \u001b[0;36mscan_with_interval\u001b[1;34m(record, window_width)\u001b[0m\n\u001b[0;32m    192\u001b[0m segment_beat_annotation_count \u001b[38;5;241m=\u001b[39m \u001b[38;5;28mdict\u001b[39m(\u001b[38;5;28mzip\u001b[39m(beats, count))\n\u001b[0;32m    193\u001b[0m total_count \u001b[38;5;241m=\u001b[39m \u001b[38;5;28msum\u001b[39m(segment_beat_annotation_count\u001b[38;5;241m.\u001b[39mvalues())\n\u001b[1;32m--> 195\u001b[0m pac_percentage \u001b[38;5;241m=\u001b[39m \u001b[43msegment_beat_annotation_count\u001b[49m\u001b[38;5;241;43m.\u001b[39;49m\u001b[43mget\u001b[49m\u001b[43m(\u001b[49m\u001b[38;5;124;43m'\u001b[39;49m\u001b[38;5;124;43mA\u001b[39;49m\u001b[38;5;124;43m'\u001b[39;49m\u001b[43m,\u001b[49m\u001b[43m \u001b[49m\u001b[38;5;241;43m0\u001b[39;49m\u001b[43m)\u001b[49m\u001b[43m \u001b[49m\u001b[38;5;241;43m/\u001b[39;49m\u001b[43m \u001b[49m\u001b[43mtotal_count\u001b[49m \u001b[38;5;241m*\u001b[39m \u001b[38;5;241m100\u001b[39m\n\u001b[0;32m    196\u001b[0m pac_percentages\u001b[38;5;241m.\u001b[39mappend(pac_percentage)\n\u001b[0;32m    197\u001b[0m pvc_percentage \u001b[38;5;241m=\u001b[39m segment_beat_annotation_count\u001b[38;5;241m.\u001b[39mget(\u001b[38;5;124m'\u001b[39m\u001b[38;5;124mV\u001b[39m\u001b[38;5;124m'\u001b[39m, \u001b[38;5;241m0\u001b[39m) \u001b[38;5;241m/\u001b[39m total_count \u001b[38;5;241m*\u001b[39m \u001b[38;5;241m100\u001b[39m\n",
      "\u001b[1;31mZeroDivisionError\u001b[0m: division by zero"
     ]
    }
   ],
   "source": [
    "from scanning_window import scan_record\n",
    "test_scan=scan_record(reading_record,window_width=30)"
   ]
  },
  {
   "cell_type": "code",
   "execution_count": null,
   "metadata": {},
   "outputs": [],
   "source": [
    "a=[(2000,1000)]\n",
    "a"
   ]
  },
  {
   "cell_type": "code",
   "execution_count": null,
   "metadata": {},
   "outputs": [],
   "source": [
    "a[0][0]"
   ]
  },
  {
   "cell_type": "code",
   "execution_count": null,
   "metadata": {},
   "outputs": [],
   "source": []
  }
 ],
 "metadata": {
  "kernelspec": {
   "display_name": ".venv",
   "language": "python",
   "name": "python3"
  },
  "language_info": {
   "codemirror_mode": {
    "name": "ipython",
    "version": 3
   },
   "file_extension": ".py",
   "mimetype": "text/x-python",
   "name": "python",
   "nbconvert_exporter": "python",
   "pygments_lexer": "ipython3",
   "version": "3.11.7"
  }
 },
 "nbformat": 4,
 "nbformat_minor": 2
}
